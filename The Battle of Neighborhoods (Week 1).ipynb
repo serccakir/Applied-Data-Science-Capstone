{
 "cells": [
  {
   "cell_type": "markdown",
   "metadata": {},
   "source": [
    "## Capstone Project - The Battle of Neighborhoods (Week 1)"
   ]
  },
  {
   "cell_type": "markdown",
   "metadata": {},
   "source": [
    "\n",
    "### - Introduction/Business Problem"
   ]
  },
  {
   "cell_type": "markdown",
   "metadata": {},
   "source": [
    "#### Problem Background & Description\n"
   ]
  },
  {
   "cell_type": "markdown",
   "metadata": {},
   "source": [
    "The population growth has always a demand for new housing, improving the facilities, enhancing the number of places of entertaintment, restaurants, and especially shopping malls. Nowadays, Most of the small families opt for entertaining in shoppling malls during weekend where they can find vast amount of opportunities for themselves as parents and for their children. Therefore, New York city has its potential for need-based built shopping malls. With this study, we will conduct a research on finding useful insights that would be necessary for determining the location for a new shopping mall. "
   ]
  },
  {
   "cell_type": "markdown",
   "metadata": {},
   "source": [
    "This study aims at helping a group of stakeholders find the right location to build a new shopping mall in New York city. Regardless of any region of the city (e.g. north, west, etc.), each neighborhood is of interest to the stakeholders. Therefore, all of them will be clearly examined and the one that essentially needs a shopping mall will be found out.  "
   ]
  },
  {
   "cell_type": "markdown",
   "metadata": {},
   "source": [
    "#### - Data"
   ]
  },
  {
   "cell_type": "markdown",
   "metadata": {},
   "source": [
    "In this study, we will need three types of datasets:\n",
    "\n",
    "    1) New York city (NYC) data including geographic coordinates of neighborhoods\n",
    "    2) NYC population data: since the population growth is one of the key parameters, we will need borough based population \n",
    "    3) In addition to the above data, Foursquare API will be used to access venues in each neighborhood."
   ]
  },
  {
   "cell_type": "markdown",
   "metadata": {},
   "source": [
    "1)\n",
    "- First type of data will be taken from our previous lab (Segmenting and Clustering Neighborhoods in New York City) which was taken originally from NYU Spatial Data Repository via the link: https://geo.nyu.edu/catalog/nyu_2451_34572\n",
    "\n",
    "- In this data, we will access to the boroughs, neighborhoods and their geographical coordinates (latitudes and longitudes).\n",
    "- Data will look like as follows:\n",
    "\n",
    "<img src=\"bronx.PNG\" width=\"310\">\n"
   ]
  },
  {
   "cell_type": "markdown",
   "metadata": {},
   "source": [
    "2)\n",
    "- Second type of data will be scraped from Wikipedia via the link: https://en.wikipedia.org/wiki/Demographics_of_New_York_City\n",
    "- With this data, we will have access to the population of each borough (from 2017) and also have the opportunity to see the population growth from previous years which will help us make assumptions. \n",
    "- First and second dataset will be merged on names of boroughs.\n"
   ]
  },
  {
   "cell_type": "markdown",
   "metadata": {},
   "source": [
    "3)\n",
    "- With our client ID and secret, we will have opportunity to use Foursquare API where we will see the venues (restaurants, shopping malls, etc.) within each borough and neighborhood.\n",
    "- Data will look like as follows:\n",
    "<img src=\"marble_hill.PNG\" width=\"770\">\n"
   ]
  }
 ],
 "metadata": {
  "kernelspec": {
   "display_name": "Python 3",
   "language": "python",
   "name": "python3"
  },
  "language_info": {
   "codemirror_mode": {
    "name": "ipython",
    "version": 3
   },
   "file_extension": ".py",
   "mimetype": "text/x-python",
   "name": "python",
   "nbconvert_exporter": "python",
   "pygments_lexer": "ipython3",
   "version": "3.7.4"
  }
 },
 "nbformat": 4,
 "nbformat_minor": 2
}
